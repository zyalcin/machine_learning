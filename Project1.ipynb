{
 "cells": [
  {
   "cell_type": "markdown",
   "metadata": {},
   "source": [
    "<H1><center>Project 1<BR><BR>\n",
    "Classification with <em>k</em> Nearest Neighbors</center></H1>"
   ]
  },
  {
   "cell_type": "markdown",
   "metadata": {},
   "source": [
    "<H2>Task 1: Chatbots\n",
    "</H2>"
   ]
  },
  {
   "cell_type": "markdown",
   "metadata": {},
   "source": [
    "<P>Read <a href=\"https://www.nytimes.com/2022/12/21/technology/personaltech/how-to-use-chatgpt-ethically.html\">this article</a> about ChatGPT.</P>\n",
    "\n",
    "<P>Please answer (minimum 200 words) the following questions in the space below. In your opinion, what is one or more positive uses of ChatGPT? What is one or more problematic aspects of ChatGPT? When weighing the positive and negative aspects, do you think technologies like ChatGPT are a net positive or net negative contribution to society? Why? How might we (as researchers, as companies, as a society) minimize the problematic uses and aspects of technologies like ChatGPT?</P>"
   ]
  },
  {
   "cell_type": "markdown",
   "metadata": {},
   "source": []
  },
  {
   "cell_type": "markdown",
   "metadata": {
    "collapsed": true
   },
   "source": [
    "\n",
    "\n",
    "\n",
    "\n",
    "\n",
    "\n",
    "\n",
    "\n"
   ]
  },
  {
   "cell_type": "markdown",
   "metadata": {},
   "source": [
    "<H2>Task 2: Classifying diabetes with <em>k</em>NN\n",
    "</H2>"
   ]
  },
  {
   "cell_type": "markdown",
   "metadata": {},
   "source": [
    "<P>Together with the downloaded file containing this notebook, you should find three comma-separated values (csv) files named <code>diabetes_training.csv</code>, <code>diabetes_validation.csv</code>, and <code>diabetes_testing.csv</code>, corresponding to training, validation, and testing data, respectively. The first row of each file contains header information. Each subsequent row represents a person of <a href=\"https://en.wikipedia.org/wiki/Pima_people\">Pima</a> Native American heritage, with feature values separated by commas. The very last column is the label, 0 or 1, which denotes whether or not that person has diabetes. The rest of the columns are, in order,</P>\n",
    "<ol>\n",
    "<li>Number of times pregnant</li>\n",
    "<li>Plasma glucose concentration at 2 hours in an oral glucose tolerance test</li>\n",
    "<li>Diastolic blood pressure (mm Hg)</li>\n",
    "<li>Triceps skin fold thickness (mm)</li>\n",
    "<li>2-Hour serum insulin (mu U/ml)</li>\n",
    "<li>Body mass index (weight in kg/(height in m)^2)</li>\n",
    "<li>Diabetes pedigree function</li>\n",
    "<li>Age (years)</li>\n",
    "</ol>\n",
    "<P>In this task, you will work with the <em>k</em> nearest neighbors algorithm and use it to predict whether someone has diabetes based on various diagnostic measurements.</P>"
   ]
  },
  {
   "cell_type": "markdown",
   "metadata": {},
   "source": [
    "<P>Write a function <code>load</code> that takes a <code>csv</code> file as input, reads in the file, and returns a tuple <code>(X, y)</code>, where <code>X</code> is a data matrix corresponding to the feature values and <code>y</code> is a vector corresponding to the labels. Your function should ignore the first (header) row of the file and it should assume that the labels are in the final column in the file.</P>"
   ]
  },
  {
   "cell_type": "code",
   "execution_count": 1,
   "metadata": {},
   "outputs": [
    {
     "name": "stdout",
     "output_type": "stream",
     "text": [
      "[[  0.     67.     76.    ...  45.3     0.194  46.   ]\n",
      " [  8.     91.     82.    ...  35.6     0.587  68.   ]\n",
      " [  2.    130.     96.    ...  22.6     0.268  21.   ]\n",
      " ...\n",
      " [  4.    141.     74.    ...  27.6     0.244  40.   ]\n",
      " [ 11.    135.      0.    ...  52.3     0.578  40.   ]\n",
      " [  0.    101.     76.    ...  35.7     0.198  26.   ]]\n"
     ]
    }
   ],
   "source": [
    "import numpy as np\n",
    "from numpy import matrix\n",
    "\n",
    "def load(csv_file):\n",
    "    \"\"\"given a CSV file where each row is a data point,\n",
    "    with the last column being the label and the rest being the vector,\n",
    "    return a tuple consisting of two elements:\n",
    "    (1) a matrix where each row is a vector, in the same order as they appear in the file\n",
    "    (2) an array where the ith element is the label of the ith vector above.\n",
    "    \"\"\"\n",
    "    \n",
    "   \n",
    "    file = np.loadtxt(open(csv_file, \"r\"), delimiter=\",\", skiprows=1)\n",
    "\n",
    "    x_matrix = matrix(file[:, :-1])\n",
    "    y_vector = matrix(file[:, [-1]])\n",
    "    return (x_matrix, y_vector)\n",
    "\n",
    "\n",
    "\n",
    "\n",
    "x_train, y_train = load(\"diabetes_training.csv\") #training data\n",
    "x_test, y_test = load(\"diabetes_testing.csv\") #testing data\n",
    "x_validation, y_validation = load(\"diabetes_validation.csv\") #validation data\n",
    "\n",
    "print(x_train)\n"
   ]
  },
  {
   "cell_type": "markdown",
   "metadata": {},
   "source": [
    "<P>Write a function <code>knn_predict</code> that takes three parameters, a training data matrix, the associated labels for the training data, and a testing data matrix. Using the <em>k</em> nearest neighbors algorithm, the function should return an array containing the predicted labels of each row (in order) for the testing data matrix. The function need only work for <em>k</em>=1 and the Euclidean distance metric (i.e., the L2 norm). While not part of this project, if you want to challenge yourself, implement the function so that it works for different values of <em>k</em> or different distance metrics. You should <font color='red'><em>not</em></font> perform any feature scaling in this task (that will come in Task 4 :).</P>\n",
    "<P>Your function may use <code>numpy</code> functions such as <code>numpy.linalg.norm</code>, which calculates distances, but it may <font color='red'><em>not</em></font> use any functions from <code>sklearn</code>! You may use helper functions as you deem appropriate.\n",
    "</P>"
   ]
  },
  {
   "cell_type": "code",
   "execution_count": 2,
   "metadata": {
    "scrolled": false
   },
   "outputs": [
    {
     "data": {
      "text/plain": [
       "[matrix([[0.]]),\n",
       " matrix([[1.]]),\n",
       " matrix([[0.]]),\n",
       " matrix([[1.]]),\n",
       " matrix([[0.]]),\n",
       " matrix([[1.]]),\n",
       " matrix([[0.]]),\n",
       " matrix([[1.]]),\n",
       " matrix([[0.]]),\n",
       " matrix([[0.]]),\n",
       " matrix([[0.]]),\n",
       " matrix([[1.]]),\n",
       " matrix([[0.]]),\n",
       " matrix([[0.]]),\n",
       " matrix([[1.]]),\n",
       " matrix([[0.]]),\n",
       " matrix([[0.]]),\n",
       " matrix([[0.]]),\n",
       " matrix([[0.]]),\n",
       " matrix([[0.]]),\n",
       " matrix([[0.]]),\n",
       " matrix([[1.]]),\n",
       " matrix([[1.]]),\n",
       " matrix([[1.]]),\n",
       " matrix([[0.]]),\n",
       " matrix([[0.]]),\n",
       " matrix([[0.]]),\n",
       " matrix([[1.]]),\n",
       " matrix([[0.]]),\n",
       " matrix([[0.]]),\n",
       " matrix([[0.]]),\n",
       " matrix([[0.]]),\n",
       " matrix([[0.]]),\n",
       " matrix([[0.]]),\n",
       " matrix([[0.]]),\n",
       " matrix([[1.]]),\n",
       " matrix([[0.]]),\n",
       " matrix([[0.]]),\n",
       " matrix([[1.]]),\n",
       " matrix([[0.]]),\n",
       " matrix([[0.]]),\n",
       " matrix([[0.]]),\n",
       " matrix([[0.]]),\n",
       " matrix([[0.]]),\n",
       " matrix([[0.]]),\n",
       " matrix([[0.]]),\n",
       " matrix([[0.]]),\n",
       " matrix([[0.]]),\n",
       " matrix([[0.]]),\n",
       " matrix([[1.]]),\n",
       " matrix([[1.]]),\n",
       " matrix([[1.]]),\n",
       " matrix([[0.]]),\n",
       " matrix([[0.]]),\n",
       " matrix([[0.]]),\n",
       " matrix([[0.]]),\n",
       " matrix([[1.]]),\n",
       " matrix([[0.]]),\n",
       " matrix([[1.]]),\n",
       " matrix([[0.]]),\n",
       " matrix([[0.]]),\n",
       " matrix([[0.]]),\n",
       " matrix([[1.]]),\n",
       " matrix([[0.]]),\n",
       " matrix([[0.]]),\n",
       " matrix([[0.]]),\n",
       " matrix([[0.]]),\n",
       " matrix([[1.]]),\n",
       " matrix([[1.]]),\n",
       " matrix([[1.]]),\n",
       " matrix([[1.]]),\n",
       " matrix([[0.]]),\n",
       " matrix([[1.]]),\n",
       " matrix([[1.]]),\n",
       " matrix([[0.]]),\n",
       " matrix([[0.]]),\n",
       " matrix([[0.]]),\n",
       " matrix([[0.]]),\n",
       " matrix([[0.]]),\n",
       " matrix([[0.]]),\n",
       " matrix([[1.]]),\n",
       " matrix([[0.]]),\n",
       " matrix([[0.]]),\n",
       " matrix([[1.]]),\n",
       " matrix([[0.]]),\n",
       " matrix([[0.]]),\n",
       " matrix([[0.]]),\n",
       " matrix([[0.]]),\n",
       " matrix([[1.]]),\n",
       " matrix([[0.]]),\n",
       " matrix([[0.]]),\n",
       " matrix([[0.]]),\n",
       " matrix([[0.]]),\n",
       " matrix([[0.]]),\n",
       " matrix([[0.]]),\n",
       " matrix([[1.]]),\n",
       " matrix([[1.]]),\n",
       " matrix([[0.]]),\n",
       " matrix([[0.]]),\n",
       " matrix([[0.]]),\n",
       " matrix([[0.]]),\n",
       " matrix([[0.]]),\n",
       " matrix([[0.]]),\n",
       " matrix([[1.]]),\n",
       " matrix([[1.]]),\n",
       " matrix([[0.]]),\n",
       " matrix([[0.]]),\n",
       " matrix([[0.]]),\n",
       " matrix([[0.]]),\n",
       " matrix([[0.]]),\n",
       " matrix([[0.]]),\n",
       " matrix([[0.]]),\n",
       " matrix([[1.]]),\n",
       " matrix([[0.]]),\n",
       " matrix([[0.]]),\n",
       " matrix([[0.]]),\n",
       " matrix([[0.]]),\n",
       " matrix([[0.]]),\n",
       " matrix([[1.]]),\n",
       " matrix([[0.]]),\n",
       " matrix([[0.]]),\n",
       " matrix([[0.]]),\n",
       " matrix([[1.]]),\n",
       " matrix([[0.]]),\n",
       " matrix([[0.]]),\n",
       " matrix([[1.]]),\n",
       " matrix([[0.]]),\n",
       " matrix([[0.]]),\n",
       " matrix([[1.]]),\n",
       " matrix([[1.]]),\n",
       " matrix([[0.]]),\n",
       " matrix([[1.]]),\n",
       " matrix([[0.]]),\n",
       " matrix([[1.]]),\n",
       " matrix([[0.]]),\n",
       " matrix([[0.]]),\n",
       " matrix([[0.]]),\n",
       " matrix([[1.]]),\n",
       " matrix([[0.]]),\n",
       " matrix([[0.]]),\n",
       " matrix([[0.]]),\n",
       " matrix([[0.]]),\n",
       " matrix([[0.]]),\n",
       " matrix([[0.]]),\n",
       " matrix([[0.]]),\n",
       " matrix([[0.]]),\n",
       " matrix([[0.]]),\n",
       " matrix([[0.]]),\n",
       " matrix([[0.]]),\n",
       " matrix([[1.]]),\n",
       " matrix([[0.]]),\n",
       " matrix([[0.]]),\n",
       " matrix([[1.]]),\n",
       " matrix([[1.]]),\n",
       " matrix([[1.]]),\n",
       " matrix([[1.]])]"
      ]
     },
     "execution_count": 2,
     "metadata": {},
     "output_type": "execute_result"
    }
   ],
   "source": [
    "from numpy import linalg\n",
    "\n",
    "def calc_kNN(point, trainX, trainy):\n",
    "    \"\"\"calculate closest trainy point to\n",
    "    given trainX point\n",
    "    \"\"\"\n",
    "    distances = []\n",
    "    for each in trainX:\n",
    "        distance = linalg.norm(point - each)\n",
    "        distances.append(distance)\n",
    "    lowest_index = distances.index(min(distances))\n",
    "    #print(trainy[lowest_index])\n",
    "    return trainy[lowest_index]\n",
    "\n",
    "    \n",
    "def knn_predict(trainX, trainy, testX):\n",
    "    \"\"\"predict the labels of the testX data points\n",
    "    using k=1 Nearest Neighbors and Euclidean distance, \n",
    "    and return as a vector of predictions\"\"\"\n",
    "\n",
    "    prediction_vector = []\n",
    "    for each in testX:\n",
    "        predict = calc_kNN(each, trainX, trainy)\n",
    "        prediction_vector.append(predict)\n",
    "    return prediction_vector\n",
    "    \n",
    "knn_predict(x_train, y_train, x_test)  \n"
   ]
  },
  {
   "cell_type": "markdown",
   "metadata": {},
   "source": [
    "<P>Write a function <code>get_accuracy</code> that takes an array of true labels and an array of predicted labels and returns the relative accuracy, i.e., the percentage of labels in common between the two arrays.</P>"
   ]
  },
  {
   "cell_type": "code",
   "execution_count": 3,
   "metadata": {},
   "outputs": [
    {
     "data": {
      "text/plain": [
       "0.6538461538461539"
      ]
     },
     "execution_count": 3,
     "metadata": {},
     "output_type": "execute_result"
    }
   ],
   "source": [
    "y_predicted = knn_predict(x_train, y_train, x_test)  \n",
    "y_true = y_test\n",
    "\n",
    "def get_accuracy(y_true, y_predicted):\n",
    "    \"\"\"returns the fraction of correct predictions in y_predicted compared to y_true\"\"\"\n",
    "    count = 0\n",
    "    index = 0 \n",
    "    for each in y_true:\n",
    "        if each == y_predicted[index]:\n",
    "            count += 1  \n",
    "        index += 1\n",
    "    return count/len(y_true)\n",
    "get_accuracy(y_test,y_predicted)"
   ]
  },
  {
   "cell_type": "markdown",
   "metadata": {},
   "source": [
    "<P><font color=\"maroon\"><u>What is the accuracy of your <em>k</em> nearest neighbors algorithm (using <em>k</em>=1 and the Euclidean distance metric) on the diabetes test data?</u></font></P>"
   ]
  },
  {
   "cell_type": "markdown",
   "metadata": {},
   "source": [
    "Report your accuracy here: 65.38461538461539%"
   ]
  },
  {
   "cell_type": "markdown",
   "metadata": {},
   "source": [
    "<H2>Task 3: Hyperparameter tuning with <em>k</em>NN\n",
    "</H2>"
   ]
  },
  {
   "cell_type": "markdown",
   "metadata": {},
   "source": [
    "<P>In this task, you will use the validation data to explore the hyperparameter space of the <em>k</em>NN approach. Above, you implemented your own <em>k</em>NN classification approach. Here, we will use the <code>sklearn</code> <em>k</em>NN classification approach, as it allows setting different distance metrics and different values for <em>k</em>, which your approach may not have done. To start, write a function <code>sklearn_knn_predict</code> that uses <code>sklearn</code>'s <code>KNeighborClassifier</code> to make classification predictions. The function should have five inputs: a set of training data, a set of training labels, a set of evaluation data, a distance metric such as 'euclidean' or 'manhattan', and a value for <em>k</em>. The function should return an array of classification predictions. When creating an <a href=\"http://scikit-learn.org/stable/modules/generated/sklearn.neighbors.KNeighborsClassifier.html\">sklearn.neighbors.KNeighborsClassifer</a> instance, you should provide three inputs: <code>algorithm='brute'</code> uses the same <em>k</em>NN algorithm that you implemented above, <code>metric=distance_metric</code> uses the distance metric provided as input to your <code>sklearn_knn_predict</code> function, and <code>n_neighbors=k</code> uses the value of <em>k</em> provided as input to your <code>sklearn_knn_predict</code> function. You should <font color='red'><em>not</em></font> perform any feature scaling in this task (that will come in Task 4 :).\n",
    "</P>"
   ]
  },
  {
   "cell_type": "code",
   "execution_count": 4,
   "metadata": {},
   "outputs": [
    {
     "name": "stdout",
     "output_type": "stream",
     "text": [
      "0.6538461538461539\n"
     ]
    },
    {
     "name": "stderr",
     "output_type": "stream",
     "text": [
      "/Users/zeynoyalcin/opt/anaconda3/lib/python3.7/site-packages/ipykernel_launcher.py:5: DataConversionWarning: A column-vector y was passed when a 1d array was expected. Please change the shape of y to (n_samples, ), for example using ravel().\n",
      "  \"\"\"\n",
      "/Users/zeynoyalcin/opt/anaconda3/lib/python3.7/site-packages/ipykernel_launcher.py:11: DataConversionWarning: A column-vector y was passed when a 1d array was expected. Please change the shape of y to (n_samples, ), for example using ravel().\n",
      "  # This is added back by InteractiveShellApp.init_path()\n"
     ]
    }
   ],
   "source": [
    "from sklearn.neighbors import KNeighborsClassifier\n",
    "\n",
    "def sklearn_knn_predict(trainX, trainy, testX, distance_metric, k):\n",
    "    model = KNeighborsClassifier(n_neighbors=k, algorithm='brute', metric=distance_metric)\n",
    "    model.fit(trainX, trainy)\n",
    "    predictions = model.predict(testX)\n",
    "    return predictions\n",
    "sklearn_knn_predict(x_train, y_train, x_test, \"euclidean\", 1)\n",
    "\n",
    "model = KNeighborsClassifier(n_neighbors=1, algorithm='brute', metric=\"euclidean\")\n",
    "model.fit(x_train, y_train)\n",
    "kNN_accuracy = model.score(x_test, y_test)\n",
    "print(kNN_accuracy)"
   ]
  },
  {
   "cell_type": "markdown",
   "metadata": {},
   "source": [
    "<P><font color=\"maroon\"><u>What is the accuracy of the <code>sklearn</code> <em>k</em> nearest neighbors algorithm (using <em>k</em>=1 and the Euclidean distance metric) on the diabetes test data?</u></font></P>"
   ]
  },
  {
   "cell_type": "markdown",
   "metadata": {},
   "source": [
    "Report your accuracy here: 65.38461538461539%\n"
   ]
  },
  {
   "cell_type": "markdown",
   "metadata": {},
   "source": [
    "<P>Define a function <code>knn_grid_search</code> that takes as input the training data vectors <code>trainX</code>, the associated training labels <code>trainy</code>, the validation data <code>validationX</code>, the associated validation labels <code>validationy</code>, a list of distance metrics, and list of values for <em>k</em>. For each distance metric and value of <em>k</em>, the function should train a <em>k</em>NN classifier on the training data and test its accuracy on the validation data. It should return a dictionary mapping each <code>(metric, k)</code> tuple such as <code>('euclidean', 3)</code> to the validation accuracy for those two parameters.\n",
    "</P>"
   ]
  },
  {
   "cell_type": "code",
   "execution_count": 5,
   "metadata": {},
   "outputs": [
    {
     "name": "stderr",
     "output_type": "stream",
     "text": [
      "/Users/zeynoyalcin/opt/anaconda3/lib/python3.7/site-packages/ipykernel_launcher.py:13: DataConversionWarning: A column-vector y was passed when a 1d array was expected. Please change the shape of y to (n_samples, ), for example using ravel().\n",
      "  del sys.path[0]\n",
      "/Users/zeynoyalcin/opt/anaconda3/lib/python3.7/site-packages/ipykernel_launcher.py:13: DataConversionWarning: A column-vector y was passed when a 1d array was expected. Please change the shape of y to (n_samples, ), for example using ravel().\n",
      "  del sys.path[0]\n",
      "/Users/zeynoyalcin/opt/anaconda3/lib/python3.7/site-packages/ipykernel_launcher.py:13: DataConversionWarning: A column-vector y was passed when a 1d array was expected. Please change the shape of y to (n_samples, ), for example using ravel().\n",
      "  del sys.path[0]\n",
      "/Users/zeynoyalcin/opt/anaconda3/lib/python3.7/site-packages/ipykernel_launcher.py:13: DataConversionWarning: A column-vector y was passed when a 1d array was expected. Please change the shape of y to (n_samples, ), for example using ravel().\n",
      "  del sys.path[0]\n",
      "/Users/zeynoyalcin/opt/anaconda3/lib/python3.7/site-packages/ipykernel_launcher.py:13: DataConversionWarning: A column-vector y was passed when a 1d array was expected. Please change the shape of y to (n_samples, ), for example using ravel().\n",
      "  del sys.path[0]\n",
      "/Users/zeynoyalcin/opt/anaconda3/lib/python3.7/site-packages/ipykernel_launcher.py:13: DataConversionWarning: A column-vector y was passed when a 1d array was expected. Please change the shape of y to (n_samples, ), for example using ravel().\n",
      "  del sys.path[0]\n"
     ]
    },
    {
     "data": {
      "text/plain": [
       "{('euclidean', 1): 0.6993464052287581,\n",
       " ('euclidean', 2): 0.7450980392156863,\n",
       " ('euclidean', 3): 0.7254901960784313,\n",
       " ('manhattan', 1): 0.7058823529411765,\n",
       " ('manhattan', 2): 0.7450980392156863,\n",
       " ('manhattan', 3): 0.7058823529411765}"
      ]
     },
     "execution_count": 5,
     "metadata": {},
     "output_type": "execute_result"
    }
   ],
   "source": [
    "def knn_grid_search(trainX, trainy, validationX, validationy, distance_metric_list, n_neighbors_list):\n",
    "    \"\"\"For each metric in distance_metric_list, and each value k in n_neighbors_list,\n",
    "    trains knn classifiers with those parameters\n",
    "    on the training data and computes the accuracy on the validation data.\n",
    "    Returns a dictionary mapping each value of the hyperparameter pair (metric, k)\n",
    "    to the accuracy with those hyperparameters on the validation data\n",
    "    \"\"\"\n",
    "    metric_k_dict = {}\n",
    "    \n",
    "    for distance in distance_metric_list:\n",
    "        for neighbors in n_neighbors_list:\n",
    "            model = KNeighborsClassifier(n_neighbors=neighbors, algorithm='brute', metric=distance)\n",
    "            model.fit(trainX, trainy)\n",
    "            kNN_accuracy = model.score(validationX, validationy)\n",
    "            metric_k_dict[(distance, neighbors)] = kNN_accuracy\n",
    "    return metric_k_dict\n",
    "\n",
    "distance = ['euclidean', 'manhattan']\n",
    "n = [1, 2, 3]\n",
    "knn_grid_search(x_train, y_train, x_validation, y_validation, distance, n)"
   ]
  },
  {
   "cell_type": "markdown",
   "metadata": {},
   "source": [
    "<P>Consider two distance metrics, 'euclidean' and 'manhattan', and the following ten values for <em>k</em>: 1,3,5,7,9,11,13,15,17,19. For these possible hyperparameter values, print out the distance metric and value for <em>k</em> that correspond to the highest accuracy of the <em>k</em>NN classifier on the validation data. Also, print out the accuracy of the classifier on the <em>test</em> data using this pair of parameters.</P>"
   ]
  },
  {
   "cell_type": "code",
   "execution_count": 6,
   "metadata": {},
   "outputs": [
    {
     "name": "stderr",
     "output_type": "stream",
     "text": [
      "/Users/zeynoyalcin/opt/anaconda3/lib/python3.7/site-packages/ipykernel_launcher.py:13: DataConversionWarning: A column-vector y was passed when a 1d array was expected. Please change the shape of y to (n_samples, ), for example using ravel().\n",
      "  del sys.path[0]\n",
      "/Users/zeynoyalcin/opt/anaconda3/lib/python3.7/site-packages/ipykernel_launcher.py:13: DataConversionWarning: A column-vector y was passed when a 1d array was expected. Please change the shape of y to (n_samples, ), for example using ravel().\n",
      "  del sys.path[0]\n",
      "/Users/zeynoyalcin/opt/anaconda3/lib/python3.7/site-packages/ipykernel_launcher.py:13: DataConversionWarning: A column-vector y was passed when a 1d array was expected. Please change the shape of y to (n_samples, ), for example using ravel().\n",
      "  del sys.path[0]\n",
      "/Users/zeynoyalcin/opt/anaconda3/lib/python3.7/site-packages/ipykernel_launcher.py:13: DataConversionWarning: A column-vector y was passed when a 1d array was expected. Please change the shape of y to (n_samples, ), for example using ravel().\n",
      "  del sys.path[0]\n",
      "/Users/zeynoyalcin/opt/anaconda3/lib/python3.7/site-packages/ipykernel_launcher.py:13: DataConversionWarning: A column-vector y was passed when a 1d array was expected. Please change the shape of y to (n_samples, ), for example using ravel().\n",
      "  del sys.path[0]\n",
      "/Users/zeynoyalcin/opt/anaconda3/lib/python3.7/site-packages/ipykernel_launcher.py:13: DataConversionWarning: A column-vector y was passed when a 1d array was expected. Please change the shape of y to (n_samples, ), for example using ravel().\n",
      "  del sys.path[0]\n",
      "/Users/zeynoyalcin/opt/anaconda3/lib/python3.7/site-packages/ipykernel_launcher.py:13: DataConversionWarning: A column-vector y was passed when a 1d array was expected. Please change the shape of y to (n_samples, ), for example using ravel().\n",
      "  del sys.path[0]\n",
      "/Users/zeynoyalcin/opt/anaconda3/lib/python3.7/site-packages/ipykernel_launcher.py:13: DataConversionWarning: A column-vector y was passed when a 1d array was expected. Please change the shape of y to (n_samples, ), for example using ravel().\n",
      "  del sys.path[0]\n",
      "/Users/zeynoyalcin/opt/anaconda3/lib/python3.7/site-packages/ipykernel_launcher.py:13: DataConversionWarning: A column-vector y was passed when a 1d array was expected. Please change the shape of y to (n_samples, ), for example using ravel().\n",
      "  del sys.path[0]\n",
      "/Users/zeynoyalcin/opt/anaconda3/lib/python3.7/site-packages/ipykernel_launcher.py:13: DataConversionWarning: A column-vector y was passed when a 1d array was expected. Please change the shape of y to (n_samples, ), for example using ravel().\n",
      "  del sys.path[0]\n",
      "/Users/zeynoyalcin/opt/anaconda3/lib/python3.7/site-packages/ipykernel_launcher.py:13: DataConversionWarning: A column-vector y was passed when a 1d array was expected. Please change the shape of y to (n_samples, ), for example using ravel().\n",
      "  del sys.path[0]\n",
      "/Users/zeynoyalcin/opt/anaconda3/lib/python3.7/site-packages/ipykernel_launcher.py:13: DataConversionWarning: A column-vector y was passed when a 1d array was expected. Please change the shape of y to (n_samples, ), for example using ravel().\n",
      "  del sys.path[0]\n",
      "/Users/zeynoyalcin/opt/anaconda3/lib/python3.7/site-packages/ipykernel_launcher.py:13: DataConversionWarning: A column-vector y was passed when a 1d array was expected. Please change the shape of y to (n_samples, ), for example using ravel().\n",
      "  del sys.path[0]\n",
      "/Users/zeynoyalcin/opt/anaconda3/lib/python3.7/site-packages/ipykernel_launcher.py:13: DataConversionWarning: A column-vector y was passed when a 1d array was expected. Please change the shape of y to (n_samples, ), for example using ravel().\n",
      "  del sys.path[0]\n",
      "/Users/zeynoyalcin/opt/anaconda3/lib/python3.7/site-packages/ipykernel_launcher.py:13: DataConversionWarning: A column-vector y was passed when a 1d array was expected. Please change the shape of y to (n_samples, ), for example using ravel().\n",
      "  del sys.path[0]\n",
      "/Users/zeynoyalcin/opt/anaconda3/lib/python3.7/site-packages/ipykernel_launcher.py:13: DataConversionWarning: A column-vector y was passed when a 1d array was expected. Please change the shape of y to (n_samples, ), for example using ravel().\n",
      "  del sys.path[0]\n",
      "/Users/zeynoyalcin/opt/anaconda3/lib/python3.7/site-packages/ipykernel_launcher.py:13: DataConversionWarning: A column-vector y was passed when a 1d array was expected. Please change the shape of y to (n_samples, ), for example using ravel().\n",
      "  del sys.path[0]\n",
      "/Users/zeynoyalcin/opt/anaconda3/lib/python3.7/site-packages/ipykernel_launcher.py:13: DataConversionWarning: A column-vector y was passed when a 1d array was expected. Please change the shape of y to (n_samples, ), for example using ravel().\n",
      "  del sys.path[0]\n",
      "/Users/zeynoyalcin/opt/anaconda3/lib/python3.7/site-packages/ipykernel_launcher.py:13: DataConversionWarning: A column-vector y was passed when a 1d array was expected. Please change the shape of y to (n_samples, ), for example using ravel().\n",
      "  del sys.path[0]\n",
      "/Users/zeynoyalcin/opt/anaconda3/lib/python3.7/site-packages/ipykernel_launcher.py:13: DataConversionWarning: A column-vector y was passed when a 1d array was expected. Please change the shape of y to (n_samples, ), for example using ravel().\n",
      "  del sys.path[0]\n",
      "/Users/zeynoyalcin/opt/anaconda3/lib/python3.7/site-packages/ipykernel_launcher.py:13: DataConversionWarning: A column-vector y was passed when a 1d array was expected. Please change the shape of y to (n_samples, ), for example using ravel().\n",
      "  del sys.path[0]\n",
      "/Users/zeynoyalcin/opt/anaconda3/lib/python3.7/site-packages/ipykernel_launcher.py:13: DataConversionWarning: A column-vector y was passed when a 1d array was expected. Please change the shape of y to (n_samples, ), for example using ravel().\n",
      "  del sys.path[0]\n",
      "/Users/zeynoyalcin/opt/anaconda3/lib/python3.7/site-packages/ipykernel_launcher.py:13: DataConversionWarning: A column-vector y was passed when a 1d array was expected. Please change the shape of y to (n_samples, ), for example using ravel().\n",
      "  del sys.path[0]\n",
      "/Users/zeynoyalcin/opt/anaconda3/lib/python3.7/site-packages/ipykernel_launcher.py:13: DataConversionWarning: A column-vector y was passed when a 1d array was expected. Please change the shape of y to (n_samples, ), for example using ravel().\n",
      "  del sys.path[0]\n",
      "/Users/zeynoyalcin/opt/anaconda3/lib/python3.7/site-packages/ipykernel_launcher.py:13: DataConversionWarning: A column-vector y was passed when a 1d array was expected. Please change the shape of y to (n_samples, ), for example using ravel().\n",
      "  del sys.path[0]\n",
      "/Users/zeynoyalcin/opt/anaconda3/lib/python3.7/site-packages/ipykernel_launcher.py:13: DataConversionWarning: A column-vector y was passed when a 1d array was expected. Please change the shape of y to (n_samples, ), for example using ravel().\n",
      "  del sys.path[0]\n",
      "/Users/zeynoyalcin/opt/anaconda3/lib/python3.7/site-packages/ipykernel_launcher.py:13: DataConversionWarning: A column-vector y was passed when a 1d array was expected. Please change the shape of y to (n_samples, ), for example using ravel().\n",
      "  del sys.path[0]\n",
      "/Users/zeynoyalcin/opt/anaconda3/lib/python3.7/site-packages/ipykernel_launcher.py:13: DataConversionWarning: A column-vector y was passed when a 1d array was expected. Please change the shape of y to (n_samples, ), for example using ravel().\n",
      "  del sys.path[0]\n",
      "/Users/zeynoyalcin/opt/anaconda3/lib/python3.7/site-packages/ipykernel_launcher.py:13: DataConversionWarning: A column-vector y was passed when a 1d array was expected. Please change the shape of y to (n_samples, ), for example using ravel().\n",
      "  del sys.path[0]\n",
      "/Users/zeynoyalcin/opt/anaconda3/lib/python3.7/site-packages/ipykernel_launcher.py:13: DataConversionWarning: A column-vector y was passed when a 1d array was expected. Please change the shape of y to (n_samples, ), for example using ravel().\n",
      "  del sys.path[0]\n",
      "/Users/zeynoyalcin/opt/anaconda3/lib/python3.7/site-packages/ipykernel_launcher.py:13: DataConversionWarning: A column-vector y was passed when a 1d array was expected. Please change the shape of y to (n_samples, ), for example using ravel().\n",
      "  del sys.path[0]\n",
      "/Users/zeynoyalcin/opt/anaconda3/lib/python3.7/site-packages/ipykernel_launcher.py:13: DataConversionWarning: A column-vector y was passed when a 1d array was expected. Please change the shape of y to (n_samples, ), for example using ravel().\n",
      "  del sys.path[0]\n",
      "/Users/zeynoyalcin/opt/anaconda3/lib/python3.7/site-packages/ipykernel_launcher.py:13: DataConversionWarning: A column-vector y was passed when a 1d array was expected. Please change the shape of y to (n_samples, ), for example using ravel().\n",
      "  del sys.path[0]\n"
     ]
    },
    {
     "name": "stdout",
     "output_type": "stream",
     "text": [
      "The best parameters are metric = euclidean and k = 11 with 0.7843137254901961 accuracy on the validation data\n",
      "Test accuracy: 0.7243589743589743\n"
     ]
    },
    {
     "name": "stderr",
     "output_type": "stream",
     "text": [
      "/Users/zeynoyalcin/opt/anaconda3/lib/python3.7/site-packages/ipykernel_launcher.py:13: DataConversionWarning: A column-vector y was passed when a 1d array was expected. Please change the shape of y to (n_samples, ), for example using ravel().\n",
      "  del sys.path[0]\n",
      "/Users/zeynoyalcin/opt/anaconda3/lib/python3.7/site-packages/ipykernel_launcher.py:13: DataConversionWarning: A column-vector y was passed when a 1d array was expected. Please change the shape of y to (n_samples, ), for example using ravel().\n",
      "  del sys.path[0]\n",
      "/Users/zeynoyalcin/opt/anaconda3/lib/python3.7/site-packages/ipykernel_launcher.py:13: DataConversionWarning: A column-vector y was passed when a 1d array was expected. Please change the shape of y to (n_samples, ), for example using ravel().\n",
      "  del sys.path[0]\n",
      "/Users/zeynoyalcin/opt/anaconda3/lib/python3.7/site-packages/ipykernel_launcher.py:13: DataConversionWarning: A column-vector y was passed when a 1d array was expected. Please change the shape of y to (n_samples, ), for example using ravel().\n",
      "  del sys.path[0]\n",
      "/Users/zeynoyalcin/opt/anaconda3/lib/python3.7/site-packages/ipykernel_launcher.py:13: DataConversionWarning: A column-vector y was passed when a 1d array was expected. Please change the shape of y to (n_samples, ), for example using ravel().\n",
      "  del sys.path[0]\n",
      "/Users/zeynoyalcin/opt/anaconda3/lib/python3.7/site-packages/ipykernel_launcher.py:13: DataConversionWarning: A column-vector y was passed when a 1d array was expected. Please change the shape of y to (n_samples, ), for example using ravel().\n",
      "  del sys.path[0]\n",
      "/Users/zeynoyalcin/opt/anaconda3/lib/python3.7/site-packages/ipykernel_launcher.py:13: DataConversionWarning: A column-vector y was passed when a 1d array was expected. Please change the shape of y to (n_samples, ), for example using ravel().\n",
      "  del sys.path[0]\n"
     ]
    }
   ],
   "source": [
    "distance = ['euclidean', 'manhattan']\n",
    "n = [1,3,5,7,9,11,13,15,17,19]\n",
    "grid_dict = knn_grid_search(x_train, y_train, x_validation, y_validation, distance, n)\n",
    "test_dict = knn_grid_search(x_train, y_train, x_test, y_test, distance, n)\n",
    "\n",
    "\n",
    "metric, k = max(grid_dict, key=grid_dict.get)\n",
    "validation_accuracy = grid_dict.get(max(grid_dict, key= grid_dict.get))\n",
    "print('The best parameters are metric =', metric, 'and k =', k, 'with', validation_accuracy, 'accuracy on the validation data')\n",
    "test_accuracy = test_dict.get(max(test_dict, key= grid_dict.get))\n",
    "print('Test accuracy:', test_accuracy)"
   ]
  },
  {
   "cell_type": "markdown",
   "metadata": {},
   "source": [
    "<P>As a final step for this task, create a plot containing two line graphs, one corresponding to the accuracy of the <em>k</em>NN approach using different values of <em>k</em> with the <code>euclidean</code> distance metric, and one corresponding to the accuracy of the <em>k</em>NN approach using different values of <em>k</em> with the <code>manhattan</code> distance metric.\n",
    "</P>"
   ]
  },
  {
   "cell_type": "code",
   "execution_count": 29,
   "metadata": {},
   "outputs": [
    {
     "name": "stderr",
     "output_type": "stream",
     "text": [
      "/Users/zeynoyalcin/opt/anaconda3/lib/python3.7/site-packages/ipykernel_launcher.py:5: DataConversionWarning: A column-vector y was passed when a 1d array was expected. Please change the shape of y to (n_samples, ), for example using ravel().\n",
      "  \"\"\"\n",
      "/Users/zeynoyalcin/opt/anaconda3/lib/python3.7/site-packages/ipykernel_launcher.py:5: DataConversionWarning: A column-vector y was passed when a 1d array was expected. Please change the shape of y to (n_samples, ), for example using ravel().\n",
      "  \"\"\"\n",
      "/Users/zeynoyalcin/opt/anaconda3/lib/python3.7/site-packages/ipykernel_launcher.py:5: DataConversionWarning: A column-vector y was passed when a 1d array was expected. Please change the shape of y to (n_samples, ), for example using ravel().\n",
      "  \"\"\"\n",
      "/Users/zeynoyalcin/opt/anaconda3/lib/python3.7/site-packages/ipykernel_launcher.py:5: DataConversionWarning: A column-vector y was passed when a 1d array was expected. Please change the shape of y to (n_samples, ), for example using ravel().\n",
      "  \"\"\"\n",
      "/Users/zeynoyalcin/opt/anaconda3/lib/python3.7/site-packages/ipykernel_launcher.py:5: DataConversionWarning: A column-vector y was passed when a 1d array was expected. Please change the shape of y to (n_samples, ), for example using ravel().\n",
      "  \"\"\"\n",
      "/Users/zeynoyalcin/opt/anaconda3/lib/python3.7/site-packages/ipykernel_launcher.py:5: DataConversionWarning: A column-vector y was passed when a 1d array was expected. Please change the shape of y to (n_samples, ), for example using ravel().\n",
      "  \"\"\"\n",
      "/Users/zeynoyalcin/opt/anaconda3/lib/python3.7/site-packages/ipykernel_launcher.py:5: DataConversionWarning: A column-vector y was passed when a 1d array was expected. Please change the shape of y to (n_samples, ), for example using ravel().\n",
      "  \"\"\"\n",
      "/Users/zeynoyalcin/opt/anaconda3/lib/python3.7/site-packages/ipykernel_launcher.py:5: DataConversionWarning: A column-vector y was passed when a 1d array was expected. Please change the shape of y to (n_samples, ), for example using ravel().\n",
      "  \"\"\"\n",
      "/Users/zeynoyalcin/opt/anaconda3/lib/python3.7/site-packages/ipykernel_launcher.py:5: DataConversionWarning: A column-vector y was passed when a 1d array was expected. Please change the shape of y to (n_samples, ), for example using ravel().\n",
      "  \"\"\"\n",
      "/Users/zeynoyalcin/opt/anaconda3/lib/python3.7/site-packages/ipykernel_launcher.py:5: DataConversionWarning: A column-vector y was passed when a 1d array was expected. Please change the shape of y to (n_samples, ), for example using ravel().\n",
      "  \"\"\"\n",
      "/Users/zeynoyalcin/opt/anaconda3/lib/python3.7/site-packages/ipykernel_launcher.py:5: DataConversionWarning: A column-vector y was passed when a 1d array was expected. Please change the shape of y to (n_samples, ), for example using ravel().\n",
      "  \"\"\"\n",
      "/Users/zeynoyalcin/opt/anaconda3/lib/python3.7/site-packages/ipykernel_launcher.py:5: DataConversionWarning: A column-vector y was passed when a 1d array was expected. Please change the shape of y to (n_samples, ), for example using ravel().\n",
      "  \"\"\"\n",
      "/Users/zeynoyalcin/opt/anaconda3/lib/python3.7/site-packages/ipykernel_launcher.py:5: DataConversionWarning: A column-vector y was passed when a 1d array was expected. Please change the shape of y to (n_samples, ), for example using ravel().\n",
      "  \"\"\"\n",
      "/Users/zeynoyalcin/opt/anaconda3/lib/python3.7/site-packages/ipykernel_launcher.py:5: DataConversionWarning: A column-vector y was passed when a 1d array was expected. Please change the shape of y to (n_samples, ), for example using ravel().\n",
      "  \"\"\"\n",
      "/Users/zeynoyalcin/opt/anaconda3/lib/python3.7/site-packages/ipykernel_launcher.py:5: DataConversionWarning: A column-vector y was passed when a 1d array was expected. Please change the shape of y to (n_samples, ), for example using ravel().\n",
      "  \"\"\"\n",
      "/Users/zeynoyalcin/opt/anaconda3/lib/python3.7/site-packages/ipykernel_launcher.py:5: DataConversionWarning: A column-vector y was passed when a 1d array was expected. Please change the shape of y to (n_samples, ), for example using ravel().\n",
      "  \"\"\"\n",
      "/Users/zeynoyalcin/opt/anaconda3/lib/python3.7/site-packages/ipykernel_launcher.py:5: DataConversionWarning: A column-vector y was passed when a 1d array was expected. Please change the shape of y to (n_samples, ), for example using ravel().\n",
      "  \"\"\"\n",
      "/Users/zeynoyalcin/opt/anaconda3/lib/python3.7/site-packages/ipykernel_launcher.py:5: DataConversionWarning: A column-vector y was passed when a 1d array was expected. Please change the shape of y to (n_samples, ), for example using ravel().\n",
      "  \"\"\"\n",
      "/Users/zeynoyalcin/opt/anaconda3/lib/python3.7/site-packages/ipykernel_launcher.py:5: DataConversionWarning: A column-vector y was passed when a 1d array was expected. Please change the shape of y to (n_samples, ), for example using ravel().\n",
      "  \"\"\"\n",
      "/Users/zeynoyalcin/opt/anaconda3/lib/python3.7/site-packages/ipykernel_launcher.py:5: DataConversionWarning: A column-vector y was passed when a 1d array was expected. Please change the shape of y to (n_samples, ), for example using ravel().\n",
      "  \"\"\"\n"
     ]
    }
   ],
   "source": [
    "import matplotlib.pyplot as plt\n",
    "manhattan= []\n",
    "euclidean = []\n",
    "k_values = [1,3,5,7,9,11,13,15,17,19]\n",
    "\n",
    "for k in k_values:\n",
    "    y_manhattan_accuracy = sklearn_knn_predict(x_train, y_train, x_test, \"manhattan\", k)\n",
    "    y_accuracy_manhattan = get_accuracy(y_test, y_manhattan_accuracy)\n",
    "    manhattan.append((k, y_accuracy_manhattan))\n",
    "    \n",
    "for k in k_values:\n",
    "    y_euclidean_accuracy = sklearn_knn_predict(x_train, y_train, x_test, \"euclidean\", k)\n",
    "    y_accuracy_euclidean = get_accuracy(y_test, y_euclidean_accuracy)\n",
    "    euclidean.append((k, y_accuracy_euclidean))\n",
    "    \n",
    "    \n",
    "    \n",
    "manhattan_x = (list(zip(*manhattan))[0])\n",
    "manhattan_y = (list(zip(*manhattan))[1])\n",
    "    \n",
    "eucledian_x = (list(zip(*euclidean))[0])\n",
    "eucledian_y = (list(zip(*euclidean))[1])\n"
   ]
  },
  {
   "cell_type": "code",
   "execution_count": 30,
   "metadata": {},
   "outputs": [
    {
     "data": {
      "image/png": "[encoded data removed]",
      "text/plain": [
       "<Figure size 432x288 with 1 Axes>"
      ]
     },
     "metadata": {
      "needs_background": "light"
     },
     "output_type": "display_data"
    }
   ],
   "source": [
    "import pandas as pd\n",
    "\n",
    "df = pd.DataFrame(data={'Eucledian': eucledian_y, \n",
    "                        'Manhattan': manhattan_y,\n",
    "                         'K': k_values})\n",
    "\n",
    "df.plot(x=\"K\", y=[\"Eucledian\", \"Manhattan\"])\n",
    "plt.title(\"kNN validation accuracy for different values of K\")\n",
    "plt.ylabel(\"Accuracy\")\n",
    "plt.show()"
   ]
  },
  {
   "cell_type": "markdown",
   "metadata": {},
   "source": [
    "<P>Your plot of line graphs might looking something like this:<BR>\n",
    "<center><img src=\"kNN.png\"></img></center>"
   ]
  },
  {
   "cell_type": "markdown",
   "metadata": {},
   "source": [
    "<H2>Task 4: Feature Scaling\n",
    "</H2>"
   ]
  },
  {
   "cell_type": "markdown",
   "metadata": {},
   "source": [
    "<P>In the tasks above, you did not perform feature scaling prior to classifying the data.  Here, you will perform feature scaling on the diabetes data before classifying it. Using the <code>fit</code> function of <code>sklearn</code>'s <a href=\"http://scikit-learn.org/stable/modules/generated/sklearn.preprocessing.StandardScaler.html#sklearn.preprocessing.StandardScaler\">preprocessing.StandardScaler</a> class, you can learn the means and standard deviations of the features in the <em>training</em> data. Then, using the <code>transform</code> function on your trained <code>preprocessing.StandardScaler</code> object, you can scale first the <em>training</em> data and then the <em>testing</em> data. \n",
    "</P>"
   ]
  },
  {
   "cell_type": "code",
   "execution_count": 26,
   "metadata": {},
   "outputs": [],
   "source": [
    "from sklearn.preprocessing import StandardScaler\n",
    "\n",
    "# Fit a preprocessing.StandardScaler object with the diabetes training data.\n",
    "# Then scale (i.e., transform) first the training data and then the testing data.\n",
    "scale = StandardScaler()\n",
    "new_train = scale.fit_transform(x_train, y_train)\n",
    "new_test = scale.fit_transform(x_test, y_test)"
   ]
  },
  {
   "cell_type": "code",
   "execution_count": 27,
   "metadata": {},
   "outputs": [
    {
     "name": "stdout",
     "output_type": "stream",
     "text": [
      "0.7435897435897436\n"
     ]
    },
    {
     "name": "stderr",
     "output_type": "stream",
     "text": [
      "/Users/zeynoyalcin/opt/anaconda3/lib/python3.7/site-packages/ipykernel_launcher.py:6: DataConversionWarning: A column-vector y was passed when a 1d array was expected. Please change the shape of y to (n_samples, ), for example using ravel().\n",
      "  \n"
     ]
    }
   ],
   "source": [
    "# Train an sklearn KNeighborsClassifier using the scaled training data\n",
    "# and determine its accuracy on the scaled testing data (using k=1 and Euclidean distance).\n",
    "\n",
    "\n",
    "model = KNeighborsClassifier(n_neighbors=1, algorithm='brute', metric=\"euclidean\")\n",
    "model.fit(new_train, y_train)\n",
    "kNN_accuracy = model.score(new_test, y_test)\n",
    "print(kNN_accuracy)\n"
   ]
  },
  {
   "cell_type": "markdown",
   "metadata": {},
   "source": [
    "<P><font color=\"maroon\"><u>Now that you have performed feature scaling prior to classification, what is the accuracy of the <code>sklearn</code> <em>k</em> nearest neighbors algorithm (using <em>k</em>=1 and the Euclidean distance metric) on the diabetes test data? Is this accuracy better or worse than you found at the beginning of Task 3 when feature scaling was <b>not</b> used?</u></font></P>"
   ]
  },
  {
   "cell_type": "markdown",
   "metadata": {},
   "source": [
    "Report your accuracy here: \n",
    "Better or worse than accuracy in earlier task when feature scaling was not used: "
   ]
  },
  {
   "cell_type": "markdown",
   "metadata": {},
   "source": [
    "<H2>Task 5: Will it rain tomorrow?\n",
    "</H2>"
   ]
  },
  {
   "cell_type": "markdown",
   "metadata": {},
   "source": [
    "<P>Using some basic weather data for a given day, can we accurately predict whether it will rain the next day? Together with the downloaded file containing this notebook, you should find eight comma-separated values (csv) files corresponding to <a href=\"https://www.kaggle.com/jsphyg/weather-dataset-rattle-package\">weather data</a> for eight cities in Australia: Canberra, GoldCoast, Hobart, Nuriootpa, Perth, Sydney, WaggaWagga, and Wollongong. The first row of each file contains header information. Each subsequent row represents weather information for a given day in the city. The very last column is the label, 1 or 0, which denotes whether or not it rains the following day. The features are</P>\n",
    "<ol>\n",
    "<li>The day's minimum temperature (degrees C)</li>\n",
    "<li>The day's maximum temperature (degrees C)</li>\n",
    "<li>The amount of rainfall recorded for the day (mm)</li>\n",
    "<li>The speed (km/h) of the strongest wind gust in the 24 hours to midnight</li>\n",
    "<li>Wind speed (km/h) averaged over 10 minutes prior to 9am</li>\n",
    "<li>Wind speed (km/h) averaged over 10 minutes prior to 3pm</li>\n",
    "<li>Humidity (percent) at 9am</li>\n",
    "<li>Humidity (percent) at 3pm</li>\n",
    "<li>Atmospheric pressure (hpa) reduced to mean sea level at 9am</li>\n",
    "<li>Atmospheric pressure (hpa) reduced to mean sea level at 3pm</li>    \n",
    "<li>Temperature at 9am (degrees C)</li>\n",
    "<li>Temperature at 3pm (degrees C)</li>\n",
    "<li>A Boolean indicating whether or not it rained on this day, i.e., a value of 1 if precipitation (mm) in the 24 hours to 9am exceeds 1mm, otherwise 0</li>\n",
    "</ol>\n",
    "<P>In this task, you will determine the accuracy of the <em>k</em> nearest neighbors algorithm in predicting whether it will rain tomorrow in each of the eight cities.</P>"
   ]
  },
  {
   "cell_type": "markdown",
   "metadata": {},
   "source": [
    "<P>Write a function <code>predictRainInCity</code> that takes as input the name of one of the eight Australian cities, e.g., <em>Canberra</em>. Your function should</P>\n",
    "<ol>\n",
    "    <li>read in the corresponding <code>csv</code> file and store the data in <code>X</code> and <code>y</code> matrices</li>\n",
    "    <li>split the data into 70% training data and 30% testing data as you did in the Exercises using the <a href=\"https://scikit-learn.org/stable/modules/generated/sklearn.model_selection.train_test_split.html\">train_test_split</a> function</li>\n",
    "    <li>scale the features with the approach you used in the task above</li>\n",
    "    <li>print out the name of the city</li>\n",
    "    <li>print out the accuracy of a <code>KNeighborsClassifier</code> (using parameters <em>k</em>=11 and Euclidean distance) in predicting whether it will rain tomorrow</li>\n",
    "</ol>\n",
    "<P>As a final step, run your <code>predictRainInCity</code> function on the name of each of the eight Australian cities to see how effective the <em>k</em> nearest neighbors algorithm is in predicting whether it will rain the next day in each of the eight cities.</P>"
   ]
  },
  {
   "cell_type": "code",
   "execution_count": 41,
   "metadata": {},
   "outputs": [
    {
     "name": "stderr",
     "output_type": "stream",
     "text": [
      "/Users/zeynoyalcin/opt/anaconda3/lib/python3.7/site-packages/ipykernel_launcher.py:22: DataConversionWarning: A column-vector y was passed when a 1d array was expected. Please change the shape of y to (n_samples, ), for example using ravel().\n",
      "/Users/zeynoyalcin/opt/anaconda3/lib/python3.7/site-packages/ipykernel_launcher.py:22: DataConversionWarning: A column-vector y was passed when a 1d array was expected. Please change the shape of y to (n_samples, ), for example using ravel().\n",
      "/Users/zeynoyalcin/opt/anaconda3/lib/python3.7/site-packages/ipykernel_launcher.py:22: DataConversionWarning: A column-vector y was passed when a 1d array was expected. Please change the shape of y to (n_samples, ), for example using ravel().\n",
      "/Users/zeynoyalcin/opt/anaconda3/lib/python3.7/site-packages/ipykernel_launcher.py:22: DataConversionWarning: A column-vector y was passed when a 1d array was expected. Please change the shape of y to (n_samples, ), for example using ravel().\n"
     ]
    },
    {
     "name": "stdout",
     "output_type": "stream",
     "text": [
      "Canberra accuracy of rain tomorrow:\n",
      "0.8053333333333333\n",
      "GoldCoast accuracy of rain tomorrow:\n",
      "0.7613333333333333\n",
      "Hobart accuracy of rain tomorrow:\n",
      "0.728\n",
      "Nuriootpa accuracy of rain tomorrow:\n",
      "0.8293333333333334\n"
     ]
    },
    {
     "name": "stderr",
     "output_type": "stream",
     "text": [
      "/Users/zeynoyalcin/opt/anaconda3/lib/python3.7/site-packages/ipykernel_launcher.py:22: DataConversionWarning: A column-vector y was passed when a 1d array was expected. Please change the shape of y to (n_samples, ), for example using ravel().\n",
      "/Users/zeynoyalcin/opt/anaconda3/lib/python3.7/site-packages/ipykernel_launcher.py:22: DataConversionWarning: A column-vector y was passed when a 1d array was expected. Please change the shape of y to (n_samples, ), for example using ravel().\n",
      "/Users/zeynoyalcin/opt/anaconda3/lib/python3.7/site-packages/ipykernel_launcher.py:22: DataConversionWarning: A column-vector y was passed when a 1d array was expected. Please change the shape of y to (n_samples, ), for example using ravel().\n",
      "/Users/zeynoyalcin/opt/anaconda3/lib/python3.7/site-packages/ipykernel_launcher.py:22: DataConversionWarning: A column-vector y was passed when a 1d array was expected. Please change the shape of y to (n_samples, ), for example using ravel().\n"
     ]
    },
    {
     "name": "stdout",
     "output_type": "stream",
     "text": [
      "Perth accuracy of rain tomorrow:\n",
      "0.8466666666666667\n",
      "Sydney accuracy of rain tomorrow:\n",
      "0.7586666666666667\n",
      "WaggaWagga accuracy of rain tomorrow:\n",
      "0.844\n",
      "Wollongong accuracy of rain tomorrow:\n",
      "0.7586666666666667\n"
     ]
    }
   ],
   "source": [
    "from sklearn import model_selection\n",
    "from sklearn.model_selection import train_test_split\n",
    "\n",
    "# Determine the accuracy of the k nearest neighbors algorithm in predicting\n",
    "# whether it will rain tomorrow in each of eight Australian cities.\n",
    "\n",
    "def load(csv_file):\n",
    "    file = np.loadtxt(open(csv_file, \"rt\"), delimiter=\",\", skiprows=1)\n",
    "    x_matrix = matrix(file[:, :-1])\n",
    "    y_vector = matrix(file[:, [-1]])\n",
    "    return (x_matrix, y_vector)\n",
    "\n",
    "def predictRainInCity(city):\n",
    "    #split\n",
    "    x_matrix, y_matrix = load(city + \".csv\")\n",
    "    x_train, x_test, y_train, y_test = train_test_split(x_matrix, y_matrix, train_size=0.7, test_size=0.3, random_state=0)\n",
    "    #scale \n",
    "    scale = StandardScaler()\n",
    "    new_train = scale.fit_transform(x_train, y_train)\n",
    "    new_test = scale.fit_transform(x_test, y_test)\n",
    "    model = KNeighborsClassifier(n_neighbors=1, algorithm='brute', metric=\"euclidean\")\n",
    "    model.fit(new_train, y_train)\n",
    "    kNN_accuracy = model.score(new_test, y_test)\n",
    "    print(city + \" accuracy of rain tomorrow:\" )\n",
    "    print(kNN_accuracy)\n",
    "    \n",
    "predictRainInCity(\"Canberra\")\n",
    "predictRainInCity(\"GoldCoast\")\n",
    "predictRainInCity(\"Hobart\")\n",
    "predictRainInCity(\"Nuriootpa\")\n",
    "predictRainInCity(\"Perth\")\n",
    "predictRainInCity(\"Sydney\")\n",
    "predictRainInCity(\"WaggaWagga\")\n",
    "predictRainInCity(\"Wollongong\")\n",
    "\n",
    "\n",
    "\n",
    "\n",
    "\n",
    "\n",
    "\n"
   ]
  },
  {
   "cell_type": "markdown",
   "metadata": {},
   "source": [
    "<P><font color=\"maroon\"><u>Across the eight cities, what is the minimum accuracy you observe in predicting rain the next day using the <em>k</em> nearest neighbors algorithm? What is the maximum accuracy?</u></font></P>"
   ]
  },
  {
   "cell_type": "markdown",
   "metadata": {},
   "source": [
    "Report your minimum accuracy here: Hobart with accuracy of 72.8% \n",
    "Report your maximum accuracy here: Perth with 84.6% "
   ]
  },
  {
   "cell_type": "markdown",
   "metadata": {},
   "source": [
    "<H2>Submitting your work\n",
    "</H2>"
   ]
  },
  {
   "cell_type": "markdown",
   "metadata": {},
   "source": [
    "<P><font color=\"maroon\"><u>Please indicate your name and the names of any partner that worked with you on this project:</u></font></P>"
   ]
  },
  {
   "cell_type": "markdown",
   "metadata": {},
   "source": [
    "Name(s): Zeynep Yalcin, Hope Zhu "
   ]
  },
  {
   "cell_type": "markdown",
   "metadata": {},
   "source": [
    "<P><font color=\"maroon\"><u>Please indicate anyone else that you collaborated with in the process of doing the project:</u></font></P>"
   ]
  },
  {
   "cell_type": "markdown",
   "metadata": {},
   "source": [
    "Collaborators: "
   ]
  },
  {
   "cell_type": "markdown",
   "metadata": {},
   "source": [
    "<P><font color=\"maroon\"><u>When working on this project, approximately how many hours did you spend on each of (1) Task 1, (2) Task 2, (3) Task 3, (4) Task 4, (5) Task 5, and (6) Total?</u></font></P>"
   ]
  },
  {
   "cell_type": "markdown",
   "metadata": {},
   "source": [
    "Hours for Task 1: 20 minutes\n",
    "Hours for Task 2: 2 hours\n",
    "Hours for Task 3: 1 hours\n",
    "Hours for Task 4: 30 mins\n",
    "Hours for Task 5: 30 mins\n",
    "Total Hours: 4 hours 20 minutes "
   ]
  },
  {
   "cell_type": "markdown",
   "metadata": {},
   "source": [
    "<P><font color=\"maroon\"><u>When working on this project, did you abide by the <a href=\"https://www.wellesley.edu/studentlife/aboutus/honor\">Honor Code</a> and is all of the work that you are submitting your own and/or your partner's?</u></font></P>"
   ]
  },
  {
   "cell_type": "markdown",
   "metadata": {},
   "source": [
    "Abided by Honor Code: Yes"
   ]
  },
  {
   "cell_type": "markdown",
   "metadata": {},
   "source": [
    "<P><font color=\"maroon\"><u>To submit this project, please upload your <code>Project1.ipynb</code> file to the <code>Project1</code> folder that the instructor created and shared with you in your Google drive.</u></font></P>"
   ]
  }
 ],
 "metadata": {
  "kernelspec": {
   "display_name": "Python 3",
   "language": "python",
   "name": "python3"
  },
  "language_info": {
   "codemirror_mode": {
    "name": "ipython",
    "version": 3
   },
   "file_extension": ".py",
   "mimetype": "text/x-python",
   "name": "python",
   "nbconvert_exporter": "python",
   "pygments_lexer": "ipython3",
   "version": "3.7.6"
  }
 },
 "nbformat": 4,
 "nbformat_minor": 2
}
